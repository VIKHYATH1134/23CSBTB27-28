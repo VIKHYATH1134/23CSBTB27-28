{
  "nbformat": 4,
  "nbformat_minor": 0,
  "metadata": {
    "colab": {
      "provenance": [],
      "authorship_tag": "ABX9TyN5WRSSkT21dukPHlxpZsnr",
      "include_colab_link": true
    },
    "kernelspec": {
      "name": "python3",
      "display_name": "Python 3"
    },
    "language_info": {
      "name": "python"
    }
  },
  "cells": [
    {
      "cell_type": "markdown",
      "metadata": {
        "id": "view-in-github",
        "colab_type": "text"
      },
      "source": [
        "<a href=\"https://colab.research.google.com/github/VIKHYATH1134/23CSBTB27-28/blob/main/LIST2.ipynb\" target=\"_parent\"><img src=\"https://colab.research.google.com/assets/colab-badge.svg\" alt=\"Open In Colab\"/></a>"
      ]
    },
    {
      "cell_type": "code",
      "execution_count": null,
      "metadata": {
        "id": "73RAvZ19kF7d"
      },
      "outputs": [],
      "source": []
    },
    {
      "cell_type": "markdown",
      "source": [
        "Part 1 – Implement Basic Data Structures using Numpy, Pandas"
      ],
      "metadata": {
        "id": "VhkRMS_TkP3O"
      }
    },
    {
      "cell_type": "code",
      "source": [
        "import numpy as np\n",
        "list=[1,5,2,6,7]\n",
        "list1=[3,6,1,2]\n",
        "print(list)\n",
        "print(list1)\n",
        "print(type(list))\n",
        "print(type(list1))\n"
      ],
      "metadata": {
        "colab": {
          "base_uri": "https://localhost:8080/"
        },
        "id": "Y4yYdmQMkRV1",
        "outputId": "f7c66549-8378-45d2-d2cd-97a27dde7f18"
      },
      "execution_count": 2,
      "outputs": [
        {
          "output_type": "stream",
          "name": "stdout",
          "text": [
            "[1, 5, 2, 6, 7]\n",
            "[3, 6, 1, 2]\n",
            "<class 'list'>\n",
            "<class 'list'>\n"
          ]
        }
      ]
    },
    {
      "cell_type": "code",
      "source": [
        "List = [\"Geeks\",\"for\",\"geeks\"]\n",
        "List2 =\"my first lab\"\n",
        "List3 =4.3\n",
        "List4 =2j+3\n",
        "List5 ='my first class'\n",
        "print(type(List2))\n",
        "print(type(List3))\n",
        "print(type(List4))\n",
        "print(type(List5))\n",
        "print(\"\\nList Items: \")\n",
        "print(List)\n",
        "print(type(List))\n",
        "print(List[0])\n",
        "print(List[2])"
      ],
      "metadata": {
        "colab": {
          "base_uri": "https://localhost:8080/"
        },
        "id": "oZ8UnX2LmYvN",
        "outputId": "a3e98038-93d3-4088-c4f3-353b40cc5218"
      },
      "execution_count": 4,
      "outputs": [
        {
          "output_type": "stream",
          "name": "stdout",
          "text": [
            "<class 'str'>\n",
            "<class 'float'>\n",
            "<class 'complex'>\n",
            "<class 'str'>\n",
            "\n",
            "List Items: \n",
            "['Geeks', 'for', 'geeks']\n",
            "<class 'list'>\n",
            "Geeks\n",
            "geeks\n"
          ]
        }
      ]
    }
  ]
}