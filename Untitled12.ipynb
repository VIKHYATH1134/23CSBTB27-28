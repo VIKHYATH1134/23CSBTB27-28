{
  "nbformat": 4,
  "nbformat_minor": 0,
  "metadata": {
    "colab": {
      "provenance": [],
      "authorship_tag": "ABX9TyPD88yxcSve2fqwJdhNMlO9",
      "include_colab_link": true
    },
    "kernelspec": {
      "name": "python3",
      "display_name": "Python 3"
    },
    "language_info": {
      "name": "python"
    }
  },
  "cells": [
    {
      "cell_type": "markdown",
      "metadata": {
        "id": "view-in-github",
        "colab_type": "text"
      },
      "source": [
        "<a href=\"https://colab.research.google.com/github/VIKHYATH1134/23CSBTB27-28/blob/main/Untitled12.ipynb\" target=\"_parent\"><img src=\"https://colab.research.google.com/assets/colab-badge.svg\" alt=\"Open In Colab\"/></a>"
      ]
    },
    {
      "cell_type": "code",
      "source": [
        "import numpy as np\n",
        "\n",
        "# Step 1: Create a 2D NumPy array (5 students, 3 subjects)\n",
        "marks = np.array([\n",
        "    [85, 78, 92],\n",
        "    [67, 74, 80],\n",
        "    [90, 88, 95],\n",
        "    [76, 85, 83],\n",
        "    [59, 60, 65]\n",
        "])\n",
        "\n",
        "# Step 2: Calculate average, min, and max marks\n",
        "average_marks = np.mean(marks, axis=1)  # per student\n",
        "min_marks = np.min(marks, axis=1)\n",
        "max_marks = np.max(marks, axis=1)\n",
        "\n",
        "print(\"Average marks per student:\", average_marks)\n",
        "print(\"Minimum marks per student:\", min_marks)\n",
        "print(\"Maximum marks per student:\", max_marks)\n",
        "\n",
        "# Step 3: Slicing to retrieve marks of specific students\n",
        "print(\"Marks of student 2 and 4:\")\n",
        "print(marks[[1, 3], :])  # student indices 1 and 3\n",
        "\n",
        "# Step 4: Boolean indexing to find students scoring above 80 in any subject\n",
        "above_80 = marks > 80\n",
        "print(\"Marks above 80:\")\n",
        "print(marks[above_80])\n",
        "\n",
        "# Step 5: Reshape to observe subject-wise performance\n",
        "subject_wise = marks.T  # transpose to get subjects as rows\n",
        "print(\"Subject-wise performance:\")\n",
        "print(subject_wise)\n",
        "\n",
        "# Step 6: Comment on results\n",
        "for i, avg in enumerate(average_marks):\n",
        "    print(f\"Student {i+1} average: {avg:.2f}\")\n"
      ],
      "metadata": {
        "colab": {
          "base_uri": "https://localhost:8080/"
        },
        "id": "pUMnsPcn5Syr",
        "outputId": "3c020b6d-d42f-49a2-f76c-11f550fc1f73"
      },
      "execution_count": 2,
      "outputs": [
        {
          "output_type": "stream",
          "name": "stdout",
          "text": [
            "Average marks per student: [85.         73.66666667 91.         81.33333333 61.33333333]\n",
            "Minimum marks per student: [78 67 88 76 59]\n",
            "Maximum marks per student: [92 80 95 85 65]\n",
            "Marks of student 2 and 4:\n",
            "[[67 74 80]\n",
            " [76 85 83]]\n",
            "Marks above 80:\n",
            "[85 92 90 88 95 85 83]\n",
            "Subject-wise performance:\n",
            "[[85 67 90 76 59]\n",
            " [78 74 88 85 60]\n",
            " [92 80 95 83 65]]\n",
            "Student 1 average: 85.00\n",
            "Student 2 average: 73.67\n",
            "Student 3 average: 91.00\n",
            "Student 4 average: 81.33\n",
            "Student 5 average: 61.33\n"
          ]
        }
      ]
    }
  ]
}